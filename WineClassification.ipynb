{
  "nbformat": 4,
  "nbformat_minor": 0,
  "metadata": {
    "colab": {
      "provenance": [],
      "gpuType": "T4"
    },
    "kernelspec": {
      "name": "python3",
      "display_name": "Python 3"
    },
    "language_info": {
      "name": "python"
    }
  },
  "cells": [
    {
      "cell_type": "markdown",
      "source": [
        "In this project I'm going to classify 2 classes of wine using some Machine Learning algorithms like Knn, Neural Networks, Logistic, and so on. At the end of each algorithm, we can see the results on the test set."
      ],
      "metadata": {
        "id": "aCDcddCX3O3c"
      }
    },
    {
      "cell_type": "markdown",
      "source": [
        "## Import libraries and load dataset"
      ],
      "metadata": {
        "id": "sE28nMql4FT6"
      }
    },
    {
      "cell_type": "code",
      "source": [
        "import numpy as np, pandas as pd, matplotlib.pyplot as plt\n",
        "import sklearn\n",
        "from sklearn.model_selection import train_test_split\n",
        "from sklearn.linear_model import LogisticRegression\n",
        "from sklearn.preprocessing import StandardScaler\n",
        "import seaborn as sns\n",
        "from sklearn.preprocessing import LabelEncoder\n",
        "from sklearn.metrics import classification_report\n",
        "from sklearn.neighbors import KNeighborsClassifier\n",
        "from sklearn.naive_bayes import GaussianNB\n",
        "from sklearn.ensemble import RandomForestClassifier\n",
        "import torch\n",
        "from torch import nn"
      ],
      "metadata": {
        "id": "Zmjj3-TulMnG"
      },
      "execution_count": 1,
      "outputs": []
    },
    {
      "cell_type": "code",
      "source": [
        "dataset = pd.read_csv('/content/drive/MyDrive/Colab Notebooks/Datasets/WineQuality.csv')"
      ],
      "metadata": {
        "id": "G6-ZIhFXZTBm"
      },
      "execution_count": 2,
      "outputs": []
    },
    {
      "cell_type": "code",
      "source": [
        "dataset"
      ],
      "metadata": {
        "colab": {
          "base_uri": "https://localhost:8080/",
          "height": 659
        },
        "id": "j7-bLzUtZeQn",
        "outputId": "baa12984-decb-4a98-94b0-41f98b4aeaa8"
      },
      "execution_count": 3,
      "outputs": [
        {
          "output_type": "execute_result",
          "data": {
            "text/plain": [
              "       Unnamed: 0  fixed acidity  volatile acidity  citric acid  \\\n",
              "0            2732            7.4             0.170         0.29   \n",
              "1            2607            5.3             0.310         0.38   \n",
              "2            1653            4.7             0.145         0.29   \n",
              "3            3264            6.9             0.260         0.29   \n",
              "4            4931            6.4             0.450         0.07   \n",
              "...           ...            ...               ...          ...   \n",
              "32480        2838            5.0             0.255         0.22   \n",
              "32481        6414            6.6             0.360         0.52   \n",
              "32482        1126            6.3             0.200         0.24   \n",
              "32483        2924            6.2             0.200         0.33   \n",
              "32484        5462            8.1             0.280         0.46   \n",
              "\n",
              "       residual sugar  chlorides  free sulfur dioxide  total sulfur dioxide  \\\n",
              "0                 1.4      0.047                 23.0                 107.0   \n",
              "1                10.5      0.031                 53.0                 140.0   \n",
              "2                 1.0      0.042                 35.0                  90.0   \n",
              "3                 4.2      0.043                 33.0                 114.0   \n",
              "4                 1.1      0.030                 10.0                 131.0   \n",
              "...               ...        ...                  ...                   ...   \n",
              "32480             2.7      0.043                 46.0                 153.0   \n",
              "32481            11.3      0.046                  8.0                 110.0   \n",
              "32482             1.7      0.052                 36.0                 135.0   \n",
              "32483             5.4      0.028                 21.0                  75.0   \n",
              "32484            15.4      0.059                 32.0                 177.0   \n",
              "\n",
              "       density    pH  sulphates  alcohol  quality        Type  \n",
              "0      0.99390  3.52       0.65     10.4        6  White Wine  \n",
              "1      0.99321  3.34       0.46     11.7        6  White Wine  \n",
              "2      0.99080  3.76       0.49     11.3        6  White Wine  \n",
              "3      0.99020  3.16       0.31     12.5        6  White Wine  \n",
              "4      0.99050  2.97       0.28     10.8        5  White Wine  \n",
              "...        ...   ...        ...      ...      ...         ...  \n",
              "32480  0.99238  3.75       0.76     11.3        6  White Wine  \n",
              "32481  0.99660  3.07       0.46      9.4        5  White Wine  \n",
              "32482  0.99374  3.80       0.66     10.8        6  White Wine  \n",
              "32483  0.99012  3.36       0.41     13.5        7  White Wine  \n",
              "32484  1.00040  3.27       0.58      9.0        4  White Wine  \n",
              "\n",
              "[32485 rows x 14 columns]"
            ],
            "text/html": [
              "\n",
              "\n",
              "  <div id=\"df-60b9d332-c39c-4a2c-be54-da7e92ee9666\">\n",
              "    <div class=\"colab-df-container\">\n",
              "      <div>\n",
              "<style scoped>\n",
              "    .dataframe tbody tr th:only-of-type {\n",
              "        vertical-align: middle;\n",
              "    }\n",
              "\n",
              "    .dataframe tbody tr th {\n",
              "        vertical-align: top;\n",
              "    }\n",
              "\n",
              "    .dataframe thead th {\n",
              "        text-align: right;\n",
              "    }\n",
              "</style>\n",
              "<table border=\"1\" class=\"dataframe\">\n",
              "  <thead>\n",
              "    <tr style=\"text-align: right;\">\n",
              "      <th></th>\n",
              "      <th>Unnamed: 0</th>\n",
              "      <th>fixed acidity</th>\n",
              "      <th>volatile acidity</th>\n",
              "      <th>citric acid</th>\n",
              "      <th>residual sugar</th>\n",
              "      <th>chlorides</th>\n",
              "      <th>free sulfur dioxide</th>\n",
              "      <th>total sulfur dioxide</th>\n",
              "      <th>density</th>\n",
              "      <th>pH</th>\n",
              "      <th>sulphates</th>\n",
              "      <th>alcohol</th>\n",
              "      <th>quality</th>\n",
              "      <th>Type</th>\n",
              "    </tr>\n",
              "  </thead>\n",
              "  <tbody>\n",
              "    <tr>\n",
              "      <th>0</th>\n",
              "      <td>2732</td>\n",
              "      <td>7.4</td>\n",
              "      <td>0.170</td>\n",
              "      <td>0.29</td>\n",
              "      <td>1.4</td>\n",
              "      <td>0.047</td>\n",
              "      <td>23.0</td>\n",
              "      <td>107.0</td>\n",
              "      <td>0.99390</td>\n",
              "      <td>3.52</td>\n",
              "      <td>0.65</td>\n",
              "      <td>10.4</td>\n",
              "      <td>6</td>\n",
              "      <td>White Wine</td>\n",
              "    </tr>\n",
              "    <tr>\n",
              "      <th>1</th>\n",
              "      <td>2607</td>\n",
              "      <td>5.3</td>\n",
              "      <td>0.310</td>\n",
              "      <td>0.38</td>\n",
              "      <td>10.5</td>\n",
              "      <td>0.031</td>\n",
              "      <td>53.0</td>\n",
              "      <td>140.0</td>\n",
              "      <td>0.99321</td>\n",
              "      <td>3.34</td>\n",
              "      <td>0.46</td>\n",
              "      <td>11.7</td>\n",
              "      <td>6</td>\n",
              "      <td>White Wine</td>\n",
              "    </tr>\n",
              "    <tr>\n",
              "      <th>2</th>\n",
              "      <td>1653</td>\n",
              "      <td>4.7</td>\n",
              "      <td>0.145</td>\n",
              "      <td>0.29</td>\n",
              "      <td>1.0</td>\n",
              "      <td>0.042</td>\n",
              "      <td>35.0</td>\n",
              "      <td>90.0</td>\n",
              "      <td>0.99080</td>\n",
              "      <td>3.76</td>\n",
              "      <td>0.49</td>\n",
              "      <td>11.3</td>\n",
              "      <td>6</td>\n",
              "      <td>White Wine</td>\n",
              "    </tr>\n",
              "    <tr>\n",
              "      <th>3</th>\n",
              "      <td>3264</td>\n",
              "      <td>6.9</td>\n",
              "      <td>0.260</td>\n",
              "      <td>0.29</td>\n",
              "      <td>4.2</td>\n",
              "      <td>0.043</td>\n",
              "      <td>33.0</td>\n",
              "      <td>114.0</td>\n",
              "      <td>0.99020</td>\n",
              "      <td>3.16</td>\n",
              "      <td>0.31</td>\n",
              "      <td>12.5</td>\n",
              "      <td>6</td>\n",
              "      <td>White Wine</td>\n",
              "    </tr>\n",
              "    <tr>\n",
              "      <th>4</th>\n",
              "      <td>4931</td>\n",
              "      <td>6.4</td>\n",
              "      <td>0.450</td>\n",
              "      <td>0.07</td>\n",
              "      <td>1.1</td>\n",
              "      <td>0.030</td>\n",
              "      <td>10.0</td>\n",
              "      <td>131.0</td>\n",
              "      <td>0.99050</td>\n",
              "      <td>2.97</td>\n",
              "      <td>0.28</td>\n",
              "      <td>10.8</td>\n",
              "      <td>5</td>\n",
              "      <td>White Wine</td>\n",
              "    </tr>\n",
              "    <tr>\n",
              "      <th>...</th>\n",
              "      <td>...</td>\n",
              "      <td>...</td>\n",
              "      <td>...</td>\n",
              "      <td>...</td>\n",
              "      <td>...</td>\n",
              "      <td>...</td>\n",
              "      <td>...</td>\n",
              "      <td>...</td>\n",
              "      <td>...</td>\n",
              "      <td>...</td>\n",
              "      <td>...</td>\n",
              "      <td>...</td>\n",
              "      <td>...</td>\n",
              "      <td>...</td>\n",
              "    </tr>\n",
              "    <tr>\n",
              "      <th>32480</th>\n",
              "      <td>2838</td>\n",
              "      <td>5.0</td>\n",
              "      <td>0.255</td>\n",
              "      <td>0.22</td>\n",
              "      <td>2.7</td>\n",
              "      <td>0.043</td>\n",
              "      <td>46.0</td>\n",
              "      <td>153.0</td>\n",
              "      <td>0.99238</td>\n",
              "      <td>3.75</td>\n",
              "      <td>0.76</td>\n",
              "      <td>11.3</td>\n",
              "      <td>6</td>\n",
              "      <td>White Wine</td>\n",
              "    </tr>\n",
              "    <tr>\n",
              "      <th>32481</th>\n",
              "      <td>6414</td>\n",
              "      <td>6.6</td>\n",
              "      <td>0.360</td>\n",
              "      <td>0.52</td>\n",
              "      <td>11.3</td>\n",
              "      <td>0.046</td>\n",
              "      <td>8.0</td>\n",
              "      <td>110.0</td>\n",
              "      <td>0.99660</td>\n",
              "      <td>3.07</td>\n",
              "      <td>0.46</td>\n",
              "      <td>9.4</td>\n",
              "      <td>5</td>\n",
              "      <td>White Wine</td>\n",
              "    </tr>\n",
              "    <tr>\n",
              "      <th>32482</th>\n",
              "      <td>1126</td>\n",
              "      <td>6.3</td>\n",
              "      <td>0.200</td>\n",
              "      <td>0.24</td>\n",
              "      <td>1.7</td>\n",
              "      <td>0.052</td>\n",
              "      <td>36.0</td>\n",
              "      <td>135.0</td>\n",
              "      <td>0.99374</td>\n",
              "      <td>3.80</td>\n",
              "      <td>0.66</td>\n",
              "      <td>10.8</td>\n",
              "      <td>6</td>\n",
              "      <td>White Wine</td>\n",
              "    </tr>\n",
              "    <tr>\n",
              "      <th>32483</th>\n",
              "      <td>2924</td>\n",
              "      <td>6.2</td>\n",
              "      <td>0.200</td>\n",
              "      <td>0.33</td>\n",
              "      <td>5.4</td>\n",
              "      <td>0.028</td>\n",
              "      <td>21.0</td>\n",
              "      <td>75.0</td>\n",
              "      <td>0.99012</td>\n",
              "      <td>3.36</td>\n",
              "      <td>0.41</td>\n",
              "      <td>13.5</td>\n",
              "      <td>7</td>\n",
              "      <td>White Wine</td>\n",
              "    </tr>\n",
              "    <tr>\n",
              "      <th>32484</th>\n",
              "      <td>5462</td>\n",
              "      <td>8.1</td>\n",
              "      <td>0.280</td>\n",
              "      <td>0.46</td>\n",
              "      <td>15.4</td>\n",
              "      <td>0.059</td>\n",
              "      <td>32.0</td>\n",
              "      <td>177.0</td>\n",
              "      <td>1.00040</td>\n",
              "      <td>3.27</td>\n",
              "      <td>0.58</td>\n",
              "      <td>9.0</td>\n",
              "      <td>4</td>\n",
              "      <td>White Wine</td>\n",
              "    </tr>\n",
              "  </tbody>\n",
              "</table>\n",
              "<p>32485 rows × 14 columns</p>\n",
              "</div>\n",
              "      <button class=\"colab-df-convert\" onclick=\"convertToInteractive('df-60b9d332-c39c-4a2c-be54-da7e92ee9666')\"\n",
              "              title=\"Convert this dataframe to an interactive table.\"\n",
              "              style=\"display:none;\">\n",
              "\n",
              "  <svg xmlns=\"http://www.w3.org/2000/svg\" height=\"24px\"viewBox=\"0 0 24 24\"\n",
              "       width=\"24px\">\n",
              "    <path d=\"M0 0h24v24H0V0z\" fill=\"none\"/>\n",
              "    <path d=\"M18.56 5.44l.94 2.06.94-2.06 2.06-.94-2.06-.94-.94-2.06-.94 2.06-2.06.94zm-11 1L8.5 8.5l.94-2.06 2.06-.94-2.06-.94L8.5 2.5l-.94 2.06-2.06.94zm10 10l.94 2.06.94-2.06 2.06-.94-2.06-.94-.94-2.06-.94 2.06-2.06.94z\"/><path d=\"M17.41 7.96l-1.37-1.37c-.4-.4-.92-.59-1.43-.59-.52 0-1.04.2-1.43.59L10.3 9.45l-7.72 7.72c-.78.78-.78 2.05 0 2.83L4 21.41c.39.39.9.59 1.41.59.51 0 1.02-.2 1.41-.59l7.78-7.78 2.81-2.81c.8-.78.8-2.07 0-2.86zM5.41 20L4 18.59l7.72-7.72 1.47 1.35L5.41 20z\"/>\n",
              "  </svg>\n",
              "      </button>\n",
              "\n",
              "\n",
              "\n",
              "    <div id=\"df-f7b1d0dc-3267-4e2d-8a76-a73edfdd3b9a\">\n",
              "      <button class=\"colab-df-quickchart\" onclick=\"quickchart('df-f7b1d0dc-3267-4e2d-8a76-a73edfdd3b9a')\"\n",
              "              title=\"Suggest charts.\"\n",
              "              style=\"display:none;\">\n",
              "\n",
              "<svg xmlns=\"http://www.w3.org/2000/svg\" height=\"24px\"viewBox=\"0 0 24 24\"\n",
              "     width=\"24px\">\n",
              "    <g>\n",
              "        <path d=\"M19 3H5c-1.1 0-2 .9-2 2v14c0 1.1.9 2 2 2h14c1.1 0 2-.9 2-2V5c0-1.1-.9-2-2-2zM9 17H7v-7h2v7zm4 0h-2V7h2v10zm4 0h-2v-4h2v4z\"/>\n",
              "    </g>\n",
              "</svg>\n",
              "      </button>\n",
              "    </div>\n",
              "\n",
              "<style>\n",
              "  .colab-df-quickchart {\n",
              "    background-color: #E8F0FE;\n",
              "    border: none;\n",
              "    border-radius: 50%;\n",
              "    cursor: pointer;\n",
              "    display: none;\n",
              "    fill: #1967D2;\n",
              "    height: 32px;\n",
              "    padding: 0 0 0 0;\n",
              "    width: 32px;\n",
              "  }\n",
              "\n",
              "  .colab-df-quickchart:hover {\n",
              "    background-color: #E2EBFA;\n",
              "    box-shadow: 0px 1px 2px rgba(60, 64, 67, 0.3), 0px 1px 3px 1px rgba(60, 64, 67, 0.15);\n",
              "    fill: #174EA6;\n",
              "  }\n",
              "\n",
              "  [theme=dark] .colab-df-quickchart {\n",
              "    background-color: #3B4455;\n",
              "    fill: #D2E3FC;\n",
              "  }\n",
              "\n",
              "  [theme=dark] .colab-df-quickchart:hover {\n",
              "    background-color: #434B5C;\n",
              "    box-shadow: 0px 1px 3px 1px rgba(0, 0, 0, 0.15);\n",
              "    filter: drop-shadow(0px 1px 2px rgba(0, 0, 0, 0.3));\n",
              "    fill: #FFFFFF;\n",
              "  }\n",
              "</style>\n",
              "\n",
              "    <script>\n",
              "      async function quickchart(key) {\n",
              "        const containerElement = document.querySelector('#' + key);\n",
              "        const charts = await google.colab.kernel.invokeFunction(\n",
              "            'suggestCharts', [key], {});\n",
              "      }\n",
              "    </script>\n",
              "\n",
              "      <script>\n",
              "\n",
              "function displayQuickchartButton(domScope) {\n",
              "  let quickchartButtonEl =\n",
              "    domScope.querySelector('#df-f7b1d0dc-3267-4e2d-8a76-a73edfdd3b9a button.colab-df-quickchart');\n",
              "  quickchartButtonEl.style.display =\n",
              "    google.colab.kernel.accessAllowed ? 'block' : 'none';\n",
              "}\n",
              "\n",
              "        displayQuickchartButton(document);\n",
              "      </script>\n",
              "      <style>\n",
              "    .colab-df-container {\n",
              "      display:flex;\n",
              "      flex-wrap:wrap;\n",
              "      gap: 12px;\n",
              "    }\n",
              "\n",
              "    .colab-df-convert {\n",
              "      background-color: #E8F0FE;\n",
              "      border: none;\n",
              "      border-radius: 50%;\n",
              "      cursor: pointer;\n",
              "      display: none;\n",
              "      fill: #1967D2;\n",
              "      height: 32px;\n",
              "      padding: 0 0 0 0;\n",
              "      width: 32px;\n",
              "    }\n",
              "\n",
              "    .colab-df-convert:hover {\n",
              "      background-color: #E2EBFA;\n",
              "      box-shadow: 0px 1px 2px rgba(60, 64, 67, 0.3), 0px 1px 3px 1px rgba(60, 64, 67, 0.15);\n",
              "      fill: #174EA6;\n",
              "    }\n",
              "\n",
              "    [theme=dark] .colab-df-convert {\n",
              "      background-color: #3B4455;\n",
              "      fill: #D2E3FC;\n",
              "    }\n",
              "\n",
              "    [theme=dark] .colab-df-convert:hover {\n",
              "      background-color: #434B5C;\n",
              "      box-shadow: 0px 1px 3px 1px rgba(0, 0, 0, 0.15);\n",
              "      filter: drop-shadow(0px 1px 2px rgba(0, 0, 0, 0.3));\n",
              "      fill: #FFFFFF;\n",
              "    }\n",
              "  </style>\n",
              "\n",
              "      <script>\n",
              "        const buttonEl =\n",
              "          document.querySelector('#df-60b9d332-c39c-4a2c-be54-da7e92ee9666 button.colab-df-convert');\n",
              "        buttonEl.style.display =\n",
              "          google.colab.kernel.accessAllowed ? 'block' : 'none';\n",
              "\n",
              "        async function convertToInteractive(key) {\n",
              "          const element = document.querySelector('#df-60b9d332-c39c-4a2c-be54-da7e92ee9666');\n",
              "          const dataTable =\n",
              "            await google.colab.kernel.invokeFunction('convertToInteractive',\n",
              "                                                     [key], {});\n",
              "          if (!dataTable) return;\n",
              "\n",
              "          const docLinkHtml = 'Like what you see? Visit the ' +\n",
              "            '<a target=\"_blank\" href=https://colab.research.google.com/notebooks/data_table.ipynb>data table notebook</a>'\n",
              "            + ' to learn more about interactive tables.';\n",
              "          element.innerHTML = '';\n",
              "          dataTable['output_type'] = 'display_data';\n",
              "          await google.colab.output.renderOutput(dataTable, element);\n",
              "          const docLink = document.createElement('div');\n",
              "          docLink.innerHTML = docLinkHtml;\n",
              "          element.appendChild(docLink);\n",
              "        }\n",
              "      </script>\n",
              "    </div>\n",
              "  </div>\n"
            ]
          },
          "metadata": {},
          "execution_count": 3
        }
      ]
    },
    {
      "cell_type": "markdown",
      "source": [
        "As you can see, we have some features with integer and float values and also have a feature with string values that show the type of the wines, so we can separate this dataset into 2 parts; input features and output features. Let's do this"
      ],
      "metadata": {
        "id": "wLK3VaiW4dI6"
      }
    },
    {
      "cell_type": "markdown",
      "source": [
        "## Data Preprocesss"
      ],
      "metadata": {
        "id": "As4d_nkmZskL"
      }
    },
    {
      "cell_type": "markdown",
      "source": [
        "First, let's get some information about the dataset columns"
      ],
      "metadata": {
        "id": "17Ln3qcg5peD"
      }
    },
    {
      "cell_type": "code",
      "source": [
        "dataset.dropna()\n",
        "dataset.info()"
      ],
      "metadata": {
        "colab": {
          "base_uri": "https://localhost:8080/"
        },
        "id": "ouZDrqJaZidr",
        "outputId": "a0223d44-edb8-4565-d8c2-6cfc1e843c4c"
      },
      "execution_count": 4,
      "outputs": [
        {
          "output_type": "stream",
          "name": "stdout",
          "text": [
            "<class 'pandas.core.frame.DataFrame'>\n",
            "RangeIndex: 32485 entries, 0 to 32484\n",
            "Data columns (total 14 columns):\n",
            " #   Column                Non-Null Count  Dtype  \n",
            "---  ------                --------------  -----  \n",
            " 0   Unnamed: 0            32485 non-null  int64  \n",
            " 1   fixed acidity         32485 non-null  float64\n",
            " 2   volatile acidity      32485 non-null  float64\n",
            " 3   citric acid           32485 non-null  float64\n",
            " 4   residual sugar        32485 non-null  float64\n",
            " 5   chlorides             32485 non-null  float64\n",
            " 6   free sulfur dioxide   32485 non-null  float64\n",
            " 7   total sulfur dioxide  32485 non-null  float64\n",
            " 8   density               32485 non-null  float64\n",
            " 9   pH                    32485 non-null  float64\n",
            " 10  sulphates             32485 non-null  float64\n",
            " 11  alcohol               32485 non-null  float64\n",
            " 12  quality               32485 non-null  int64  \n",
            " 13  Type                  32485 non-null  object \n",
            "dtypes: float64(11), int64(2), object(1)\n",
            "memory usage: 3.5+ MB\n"
          ]
        }
      ]
    },
    {
      "cell_type": "code",
      "source": [
        "dataset.Type.unique()\n",
        "# Our problem has 2 class so we can use binary classification algorithm"
      ],
      "metadata": {
        "colab": {
          "base_uri": "https://localhost:8080/"
        },
        "id": "tYFHxZlQZ7Gd",
        "outputId": "4e0c5717-3d87-4756-ee8a-7a2b4b65ec7b"
      },
      "execution_count": 5,
      "outputs": [
        {
          "output_type": "execute_result",
          "data": {
            "text/plain": [
              "array(['White Wine', 'Red Wine'], dtype=object)"
            ]
          },
          "metadata": {},
          "execution_count": 5
        }
      ]
    },
    {
      "cell_type": "markdown",
      "source": [
        "We have two types of wine, so our task is binary classification"
      ],
      "metadata": {
        "id": "psCOwB4v58uT"
      }
    },
    {
      "cell_type": "code",
      "source": [
        "dataset.drop(['Unnamed: 0'], inplace=True, axis=1)"
      ],
      "metadata": {
        "id": "frS6TXQYaktv"
      },
      "execution_count": 6,
      "outputs": []
    },
    {
      "cell_type": "markdown",
      "source": [
        "In the below section we encode the output(we will see later that this column is y_train), so we can use it to teach models."
      ],
      "metadata": {
        "id": "_Yz89hIQ6Rej"
      }
    },
    {
      "cell_type": "code",
      "source": [
        "encoder = LabelEncoder()\n",
        "dataset.Type = encoder.fit_transform(dataset.Type)"
      ],
      "metadata": {
        "id": "8lYRjbVga3wY"
      },
      "execution_count": 7,
      "outputs": []
    },
    {
      "cell_type": "code",
      "source": [
        "dataset"
      ],
      "metadata": {
        "colab": {
          "base_uri": "https://localhost:8080/",
          "height": 485
        },
        "id": "uI30M9Y3bMEL",
        "outputId": "3d1970d5-8d23-48c1-a90c-3dda9aa1a35f"
      },
      "execution_count": 8,
      "outputs": [
        {
          "output_type": "execute_result",
          "data": {
            "text/plain": [
              "       fixed acidity  volatile acidity  citric acid  residual sugar  \\\n",
              "0                7.4             0.170         0.29             1.4   \n",
              "1                5.3             0.310         0.38            10.5   \n",
              "2                4.7             0.145         0.29             1.0   \n",
              "3                6.9             0.260         0.29             4.2   \n",
              "4                6.4             0.450         0.07             1.1   \n",
              "...              ...               ...          ...             ...   \n",
              "32480            5.0             0.255         0.22             2.7   \n",
              "32481            6.6             0.360         0.52            11.3   \n",
              "32482            6.3             0.200         0.24             1.7   \n",
              "32483            6.2             0.200         0.33             5.4   \n",
              "32484            8.1             0.280         0.46            15.4   \n",
              "\n",
              "       chlorides  free sulfur dioxide  total sulfur dioxide  density    pH  \\\n",
              "0          0.047                 23.0                 107.0  0.99390  3.52   \n",
              "1          0.031                 53.0                 140.0  0.99321  3.34   \n",
              "2          0.042                 35.0                  90.0  0.99080  3.76   \n",
              "3          0.043                 33.0                 114.0  0.99020  3.16   \n",
              "4          0.030                 10.0                 131.0  0.99050  2.97   \n",
              "...          ...                  ...                   ...      ...   ...   \n",
              "32480      0.043                 46.0                 153.0  0.99238  3.75   \n",
              "32481      0.046                  8.0                 110.0  0.99660  3.07   \n",
              "32482      0.052                 36.0                 135.0  0.99374  3.80   \n",
              "32483      0.028                 21.0                  75.0  0.99012  3.36   \n",
              "32484      0.059                 32.0                 177.0  1.00040  3.27   \n",
              "\n",
              "       sulphates  alcohol  quality  Type  \n",
              "0           0.65     10.4        6     1  \n",
              "1           0.46     11.7        6     1  \n",
              "2           0.49     11.3        6     1  \n",
              "3           0.31     12.5        6     1  \n",
              "4           0.28     10.8        5     1  \n",
              "...          ...      ...      ...   ...  \n",
              "32480       0.76     11.3        6     1  \n",
              "32481       0.46      9.4        5     1  \n",
              "32482       0.66     10.8        6     1  \n",
              "32483       0.41     13.5        7     1  \n",
              "32484       0.58      9.0        4     1  \n",
              "\n",
              "[32485 rows x 13 columns]"
            ],
            "text/html": [
              "\n",
              "\n",
              "  <div id=\"df-a9c9c31a-7496-45df-ba6b-00128f0f317c\">\n",
              "    <div class=\"colab-df-container\">\n",
              "      <div>\n",
              "<style scoped>\n",
              "    .dataframe tbody tr th:only-of-type {\n",
              "        vertical-align: middle;\n",
              "    }\n",
              "\n",
              "    .dataframe tbody tr th {\n",
              "        vertical-align: top;\n",
              "    }\n",
              "\n",
              "    .dataframe thead th {\n",
              "        text-align: right;\n",
              "    }\n",
              "</style>\n",
              "<table border=\"1\" class=\"dataframe\">\n",
              "  <thead>\n",
              "    <tr style=\"text-align: right;\">\n",
              "      <th></th>\n",
              "      <th>fixed acidity</th>\n",
              "      <th>volatile acidity</th>\n",
              "      <th>citric acid</th>\n",
              "      <th>residual sugar</th>\n",
              "      <th>chlorides</th>\n",
              "      <th>free sulfur dioxide</th>\n",
              "      <th>total sulfur dioxide</th>\n",
              "      <th>density</th>\n",
              "      <th>pH</th>\n",
              "      <th>sulphates</th>\n",
              "      <th>alcohol</th>\n",
              "      <th>quality</th>\n",
              "      <th>Type</th>\n",
              "    </tr>\n",
              "  </thead>\n",
              "  <tbody>\n",
              "    <tr>\n",
              "      <th>0</th>\n",
              "      <td>7.4</td>\n",
              "      <td>0.170</td>\n",
              "      <td>0.29</td>\n",
              "      <td>1.4</td>\n",
              "      <td>0.047</td>\n",
              "      <td>23.0</td>\n",
              "      <td>107.0</td>\n",
              "      <td>0.99390</td>\n",
              "      <td>3.52</td>\n",
              "      <td>0.65</td>\n",
              "      <td>10.4</td>\n",
              "      <td>6</td>\n",
              "      <td>1</td>\n",
              "    </tr>\n",
              "    <tr>\n",
              "      <th>1</th>\n",
              "      <td>5.3</td>\n",
              "      <td>0.310</td>\n",
              "      <td>0.38</td>\n",
              "      <td>10.5</td>\n",
              "      <td>0.031</td>\n",
              "      <td>53.0</td>\n",
              "      <td>140.0</td>\n",
              "      <td>0.99321</td>\n",
              "      <td>3.34</td>\n",
              "      <td>0.46</td>\n",
              "      <td>11.7</td>\n",
              "      <td>6</td>\n",
              "      <td>1</td>\n",
              "    </tr>\n",
              "    <tr>\n",
              "      <th>2</th>\n",
              "      <td>4.7</td>\n",
              "      <td>0.145</td>\n",
              "      <td>0.29</td>\n",
              "      <td>1.0</td>\n",
              "      <td>0.042</td>\n",
              "      <td>35.0</td>\n",
              "      <td>90.0</td>\n",
              "      <td>0.99080</td>\n",
              "      <td>3.76</td>\n",
              "      <td>0.49</td>\n",
              "      <td>11.3</td>\n",
              "      <td>6</td>\n",
              "      <td>1</td>\n",
              "    </tr>\n",
              "    <tr>\n",
              "      <th>3</th>\n",
              "      <td>6.9</td>\n",
              "      <td>0.260</td>\n",
              "      <td>0.29</td>\n",
              "      <td>4.2</td>\n",
              "      <td>0.043</td>\n",
              "      <td>33.0</td>\n",
              "      <td>114.0</td>\n",
              "      <td>0.99020</td>\n",
              "      <td>3.16</td>\n",
              "      <td>0.31</td>\n",
              "      <td>12.5</td>\n",
              "      <td>6</td>\n",
              "      <td>1</td>\n",
              "    </tr>\n",
              "    <tr>\n",
              "      <th>4</th>\n",
              "      <td>6.4</td>\n",
              "      <td>0.450</td>\n",
              "      <td>0.07</td>\n",
              "      <td>1.1</td>\n",
              "      <td>0.030</td>\n",
              "      <td>10.0</td>\n",
              "      <td>131.0</td>\n",
              "      <td>0.99050</td>\n",
              "      <td>2.97</td>\n",
              "      <td>0.28</td>\n",
              "      <td>10.8</td>\n",
              "      <td>5</td>\n",
              "      <td>1</td>\n",
              "    </tr>\n",
              "    <tr>\n",
              "      <th>...</th>\n",
              "      <td>...</td>\n",
              "      <td>...</td>\n",
              "      <td>...</td>\n",
              "      <td>...</td>\n",
              "      <td>...</td>\n",
              "      <td>...</td>\n",
              "      <td>...</td>\n",
              "      <td>...</td>\n",
              "      <td>...</td>\n",
              "      <td>...</td>\n",
              "      <td>...</td>\n",
              "      <td>...</td>\n",
              "      <td>...</td>\n",
              "    </tr>\n",
              "    <tr>\n",
              "      <th>32480</th>\n",
              "      <td>5.0</td>\n",
              "      <td>0.255</td>\n",
              "      <td>0.22</td>\n",
              "      <td>2.7</td>\n",
              "      <td>0.043</td>\n",
              "      <td>46.0</td>\n",
              "      <td>153.0</td>\n",
              "      <td>0.99238</td>\n",
              "      <td>3.75</td>\n",
              "      <td>0.76</td>\n",
              "      <td>11.3</td>\n",
              "      <td>6</td>\n",
              "      <td>1</td>\n",
              "    </tr>\n",
              "    <tr>\n",
              "      <th>32481</th>\n",
              "      <td>6.6</td>\n",
              "      <td>0.360</td>\n",
              "      <td>0.52</td>\n",
              "      <td>11.3</td>\n",
              "      <td>0.046</td>\n",
              "      <td>8.0</td>\n",
              "      <td>110.0</td>\n",
              "      <td>0.99660</td>\n",
              "      <td>3.07</td>\n",
              "      <td>0.46</td>\n",
              "      <td>9.4</td>\n",
              "      <td>5</td>\n",
              "      <td>1</td>\n",
              "    </tr>\n",
              "    <tr>\n",
              "      <th>32482</th>\n",
              "      <td>6.3</td>\n",
              "      <td>0.200</td>\n",
              "      <td>0.24</td>\n",
              "      <td>1.7</td>\n",
              "      <td>0.052</td>\n",
              "      <td>36.0</td>\n",
              "      <td>135.0</td>\n",
              "      <td>0.99374</td>\n",
              "      <td>3.80</td>\n",
              "      <td>0.66</td>\n",
              "      <td>10.8</td>\n",
              "      <td>6</td>\n",
              "      <td>1</td>\n",
              "    </tr>\n",
              "    <tr>\n",
              "      <th>32483</th>\n",
              "      <td>6.2</td>\n",
              "      <td>0.200</td>\n",
              "      <td>0.33</td>\n",
              "      <td>5.4</td>\n",
              "      <td>0.028</td>\n",
              "      <td>21.0</td>\n",
              "      <td>75.0</td>\n",
              "      <td>0.99012</td>\n",
              "      <td>3.36</td>\n",
              "      <td>0.41</td>\n",
              "      <td>13.5</td>\n",
              "      <td>7</td>\n",
              "      <td>1</td>\n",
              "    </tr>\n",
              "    <tr>\n",
              "      <th>32484</th>\n",
              "      <td>8.1</td>\n",
              "      <td>0.280</td>\n",
              "      <td>0.46</td>\n",
              "      <td>15.4</td>\n",
              "      <td>0.059</td>\n",
              "      <td>32.0</td>\n",
              "      <td>177.0</td>\n",
              "      <td>1.00040</td>\n",
              "      <td>3.27</td>\n",
              "      <td>0.58</td>\n",
              "      <td>9.0</td>\n",
              "      <td>4</td>\n",
              "      <td>1</td>\n",
              "    </tr>\n",
              "  </tbody>\n",
              "</table>\n",
              "<p>32485 rows × 13 columns</p>\n",
              "</div>\n",
              "      <button class=\"colab-df-convert\" onclick=\"convertToInteractive('df-a9c9c31a-7496-45df-ba6b-00128f0f317c')\"\n",
              "              title=\"Convert this dataframe to an interactive table.\"\n",
              "              style=\"display:none;\">\n",
              "\n",
              "  <svg xmlns=\"http://www.w3.org/2000/svg\" height=\"24px\"viewBox=\"0 0 24 24\"\n",
              "       width=\"24px\">\n",
              "    <path d=\"M0 0h24v24H0V0z\" fill=\"none\"/>\n",
              "    <path d=\"M18.56 5.44l.94 2.06.94-2.06 2.06-.94-2.06-.94-.94-2.06-.94 2.06-2.06.94zm-11 1L8.5 8.5l.94-2.06 2.06-.94-2.06-.94L8.5 2.5l-.94 2.06-2.06.94zm10 10l.94 2.06.94-2.06 2.06-.94-2.06-.94-.94-2.06-.94 2.06-2.06.94z\"/><path d=\"M17.41 7.96l-1.37-1.37c-.4-.4-.92-.59-1.43-.59-.52 0-1.04.2-1.43.59L10.3 9.45l-7.72 7.72c-.78.78-.78 2.05 0 2.83L4 21.41c.39.39.9.59 1.41.59.51 0 1.02-.2 1.41-.59l7.78-7.78 2.81-2.81c.8-.78.8-2.07 0-2.86zM5.41 20L4 18.59l7.72-7.72 1.47 1.35L5.41 20z\"/>\n",
              "  </svg>\n",
              "      </button>\n",
              "\n",
              "\n",
              "\n",
              "    <div id=\"df-c68afbe6-7578-44bc-a397-9a8c095047c8\">\n",
              "      <button class=\"colab-df-quickchart\" onclick=\"quickchart('df-c68afbe6-7578-44bc-a397-9a8c095047c8')\"\n",
              "              title=\"Suggest charts.\"\n",
              "              style=\"display:none;\">\n",
              "\n",
              "<svg xmlns=\"http://www.w3.org/2000/svg\" height=\"24px\"viewBox=\"0 0 24 24\"\n",
              "     width=\"24px\">\n",
              "    <g>\n",
              "        <path d=\"M19 3H5c-1.1 0-2 .9-2 2v14c0 1.1.9 2 2 2h14c1.1 0 2-.9 2-2V5c0-1.1-.9-2-2-2zM9 17H7v-7h2v7zm4 0h-2V7h2v10zm4 0h-2v-4h2v4z\"/>\n",
              "    </g>\n",
              "</svg>\n",
              "      </button>\n",
              "    </div>\n",
              "\n",
              "<style>\n",
              "  .colab-df-quickchart {\n",
              "    background-color: #E8F0FE;\n",
              "    border: none;\n",
              "    border-radius: 50%;\n",
              "    cursor: pointer;\n",
              "    display: none;\n",
              "    fill: #1967D2;\n",
              "    height: 32px;\n",
              "    padding: 0 0 0 0;\n",
              "    width: 32px;\n",
              "  }\n",
              "\n",
              "  .colab-df-quickchart:hover {\n",
              "    background-color: #E2EBFA;\n",
              "    box-shadow: 0px 1px 2px rgba(60, 64, 67, 0.3), 0px 1px 3px 1px rgba(60, 64, 67, 0.15);\n",
              "    fill: #174EA6;\n",
              "  }\n",
              "\n",
              "  [theme=dark] .colab-df-quickchart {\n",
              "    background-color: #3B4455;\n",
              "    fill: #D2E3FC;\n",
              "  }\n",
              "\n",
              "  [theme=dark] .colab-df-quickchart:hover {\n",
              "    background-color: #434B5C;\n",
              "    box-shadow: 0px 1px 3px 1px rgba(0, 0, 0, 0.15);\n",
              "    filter: drop-shadow(0px 1px 2px rgba(0, 0, 0, 0.3));\n",
              "    fill: #FFFFFF;\n",
              "  }\n",
              "</style>\n",
              "\n",
              "    <script>\n",
              "      async function quickchart(key) {\n",
              "        const containerElement = document.querySelector('#' + key);\n",
              "        const charts = await google.colab.kernel.invokeFunction(\n",
              "            'suggestCharts', [key], {});\n",
              "      }\n",
              "    </script>\n",
              "\n",
              "      <script>\n",
              "\n",
              "function displayQuickchartButton(domScope) {\n",
              "  let quickchartButtonEl =\n",
              "    domScope.querySelector('#df-c68afbe6-7578-44bc-a397-9a8c095047c8 button.colab-df-quickchart');\n",
              "  quickchartButtonEl.style.display =\n",
              "    google.colab.kernel.accessAllowed ? 'block' : 'none';\n",
              "}\n",
              "\n",
              "        displayQuickchartButton(document);\n",
              "      </script>\n",
              "      <style>\n",
              "    .colab-df-container {\n",
              "      display:flex;\n",
              "      flex-wrap:wrap;\n",
              "      gap: 12px;\n",
              "    }\n",
              "\n",
              "    .colab-df-convert {\n",
              "      background-color: #E8F0FE;\n",
              "      border: none;\n",
              "      border-radius: 50%;\n",
              "      cursor: pointer;\n",
              "      display: none;\n",
              "      fill: #1967D2;\n",
              "      height: 32px;\n",
              "      padding: 0 0 0 0;\n",
              "      width: 32px;\n",
              "    }\n",
              "\n",
              "    .colab-df-convert:hover {\n",
              "      background-color: #E2EBFA;\n",
              "      box-shadow: 0px 1px 2px rgba(60, 64, 67, 0.3), 0px 1px 3px 1px rgba(60, 64, 67, 0.15);\n",
              "      fill: #174EA6;\n",
              "    }\n",
              "\n",
              "    [theme=dark] .colab-df-convert {\n",
              "      background-color: #3B4455;\n",
              "      fill: #D2E3FC;\n",
              "    }\n",
              "\n",
              "    [theme=dark] .colab-df-convert:hover {\n",
              "      background-color: #434B5C;\n",
              "      box-shadow: 0px 1px 3px 1px rgba(0, 0, 0, 0.15);\n",
              "      filter: drop-shadow(0px 1px 2px rgba(0, 0, 0, 0.3));\n",
              "      fill: #FFFFFF;\n",
              "    }\n",
              "  </style>\n",
              "\n",
              "      <script>\n",
              "        const buttonEl =\n",
              "          document.querySelector('#df-a9c9c31a-7496-45df-ba6b-00128f0f317c button.colab-df-convert');\n",
              "        buttonEl.style.display =\n",
              "          google.colab.kernel.accessAllowed ? 'block' : 'none';\n",
              "\n",
              "        async function convertToInteractive(key) {\n",
              "          const element = document.querySelector('#df-a9c9c31a-7496-45df-ba6b-00128f0f317c');\n",
              "          const dataTable =\n",
              "            await google.colab.kernel.invokeFunction('convertToInteractive',\n",
              "                                                     [key], {});\n",
              "          if (!dataTable) return;\n",
              "\n",
              "          const docLinkHtml = 'Like what you see? Visit the ' +\n",
              "            '<a target=\"_blank\" href=https://colab.research.google.com/notebooks/data_table.ipynb>data table notebook</a>'\n",
              "            + ' to learn more about interactive tables.';\n",
              "          element.innerHTML = '';\n",
              "          dataTable['output_type'] = 'display_data';\n",
              "          await google.colab.output.renderOutput(dataTable, element);\n",
              "          const docLink = document.createElement('div');\n",
              "          docLink.innerHTML = docLinkHtml;\n",
              "          element.appendChild(docLink);\n",
              "        }\n",
              "      </script>\n",
              "    </div>\n",
              "  </div>\n"
            ]
          },
          "metadata": {},
          "execution_count": 8
        }
      ]
    },
    {
      "cell_type": "markdown",
      "source": [
        "Let's see the relationships between features, this heat map shows the relationships between different features and the effect of each feature on other features. This is one of the easiest ways to gain intuition about the relationships between our features."
      ],
      "metadata": {
        "id": "iFDBh9Ej7fWr"
      }
    },
    {
      "cell_type": "code",
      "source": [
        "plt.figure(figsize = (9, 6))\n",
        "sns.heatmap(dataset.corr(), cmap='Greens', annot=True)\n",
        "plt.show()"
      ],
      "metadata": {
        "colab": {
          "base_uri": "https://localhost:8080/",
          "height": 644
        },
        "id": "AEOK4W3taHjL",
        "outputId": "6e6f94c2-92da-4771-f0c9-c479d4932f7d"
      },
      "execution_count": 12,
      "outputs": [
        {
          "output_type": "display_data",
          "data": {
            "text/plain": [
              "<Figure size 900x600 with 2 Axes>"
            ],
            "image/png": "[encoded data removed]"
          },
          "metadata": {}
        }
      ]
    },
    {
      "cell_type": "markdown",
      "source": [
        "Now, we should separate our data into two parts, input(X) and output(Y). The input features are used for training the models and based on these features the model should say if the input sample is red wine or white, and then compare its result with output(Y)."
      ],
      "metadata": {
        "id": "cUDuZ93e9Tw6"
      }
    },
    {
      "cell_type": "code",
      "source": [
        "X = dataset.drop(['Type'], axis = 1)\n",
        "Y = dataset.Type"
      ],
      "metadata": {
        "id": "DjmpIIjCbdVk"
      },
      "execution_count": 13,
      "outputs": []
    },
    {
      "cell_type": "markdown",
      "source": [
        "We use Standardscaler to normalize the input features, this can help models learn faster and more efficiently."
      ],
      "metadata": {
        "id": "FQYrZhBI-aWR"
      }
    },
    {
      "cell_type": "code",
      "source": [
        "scaler = StandardScaler()\n",
        "X = scaler.fit_transform(X)"
      ],
      "metadata": {
        "id": "njCI_WD8cBqD"
      },
      "execution_count": 14,
      "outputs": []
    },
    {
      "cell_type": "markdown",
      "source": [
        "## Machine Learning Algoritm"
      ],
      "metadata": {
        "id": "03wYV4W5d4a6"
      }
    },
    {
      "cell_type": "markdown",
      "source": [
        "This section is about training some algorithms and getting the result of each. Let's look at the results and compare them."
      ],
      "metadata": {
        "id": "IilHMhci_GYh"
      }
    },
    {
      "cell_type": "markdown",
      "source": [
        "### Logistic Regression"
      ],
      "metadata": {
        "id": "DBOPGzdGgavN"
      }
    },
    {
      "cell_type": "code",
      "source": [
        "x_train, x_test, y_train, y_test = train_test_split(X, Y, test_size=0.15, random_state=0)\n",
        "print(f'x_train shape: {x_train.shape} and y_train shape: {y_train.shape}')"
      ],
      "metadata": {
        "colab": {
          "base_uri": "https://localhost:8080/"
        },
        "id": "pxpxjXA6kD8G",
        "outputId": "7d748375-a4c3-4740-8fd8-edbfb90f4d1a"
      },
      "execution_count": 15,
      "outputs": [
        {
          "output_type": "stream",
          "name": "stdout",
          "text": [
            "x_train shape: (27612, 12) and y_train shape: (27612,)\n"
          ]
        }
      ]
    },
    {
      "cell_type": "code",
      "source": [
        "logistic = LogisticRegression(max_iter=100)\n",
        "logistic.fit(x_train, y_train)\n",
        "y_pred_logistic = logistic.predict(x_test)\n",
        "print(classification_report(y_test, y_pred_logistic))"
      ],
      "metadata": {
        "colab": {
          "base_uri": "https://localhost:8080/"
        },
        "id": "pudbrhYEeMMh",
        "outputId": "2c53c8da-9495-4f0f-f8bc-c0b5d1cb51f2"
      },
      "execution_count": 16,
      "outputs": [
        {
          "output_type": "stream",
          "name": "stdout",
          "text": [
            "              precision    recall  f1-score   support\n",
            "\n",
            "           0       0.99      0.99      0.99      1261\n",
            "           1       1.00      1.00      1.00      3612\n",
            "\n",
            "    accuracy                           0.99      4873\n",
            "   macro avg       0.99      0.99      0.99      4873\n",
            "weighted avg       0.99      0.99      0.99      4873\n",
            "\n"
          ]
        }
      ]
    },
    {
      "cell_type": "markdown",
      "source": [
        "### KNN"
      ],
      "metadata": {
        "id": "xo0rcrIjhQev"
      }
    },
    {
      "cell_type": "code",
      "source": [
        "\n",
        "knn = KNeighborsClassifier(n_neighbors=5)\n",
        "knn.fit(x_train, y_train)\n",
        "y_pred_knn = knn.predict(x_test)\n",
        "print(classification_report(y_test, y_pred_knn))"
      ],
      "metadata": {
        "colab": {
          "base_uri": "https://localhost:8080/"
        },
        "id": "f0V9mIFBhPBY",
        "outputId": "e59ca598-05da-4546-be0c-05fd626044bc"
      },
      "execution_count": 17,
      "outputs": [
        {
          "output_type": "stream",
          "name": "stdout",
          "text": [
            "              precision    recall  f1-score   support\n",
            "\n",
            "           0       1.00      1.00      1.00      1261\n",
            "           1       1.00      1.00      1.00      3612\n",
            "\n",
            "    accuracy                           1.00      4873\n",
            "   macro avg       1.00      1.00      1.00      4873\n",
            "weighted avg       1.00      1.00      1.00      4873\n",
            "\n"
          ]
        }
      ]
    },
    {
      "cell_type": "markdown",
      "source": [
        "### Naive Bayes"
      ],
      "metadata": {
        "id": "T4kebajtjBXd"
      }
    },
    {
      "cell_type": "code",
      "source": [
        "\n",
        "NB = GaussianNB()\n",
        "NB.fit(x_train, y_train)\n",
        "y_predict_nb = NB.predict(x_test)\n",
        "print(classification_report(y_test, y_predict_nb))"
      ],
      "metadata": {
        "colab": {
          "base_uri": "https://localhost:8080/"
        },
        "id": "tmlGRTN2izlR",
        "outputId": "3ee618c5-a1b4-4d45-e8bb-20f90bb60900"
      },
      "execution_count": 18,
      "outputs": [
        {
          "output_type": "stream",
          "name": "stdout",
          "text": [
            "              precision    recall  f1-score   support\n",
            "\n",
            "           0       0.93      0.97      0.95      1261\n",
            "           1       0.99      0.98      0.98      3612\n",
            "\n",
            "    accuracy                           0.97      4873\n",
            "   macro avg       0.96      0.97      0.97      4873\n",
            "weighted avg       0.97      0.97      0.97      4873\n",
            "\n"
          ]
        }
      ]
    },
    {
      "cell_type": "markdown",
      "source": [
        "### Random Forest"
      ],
      "metadata": {
        "id": "PjYgH9l_lCCJ"
      }
    },
    {
      "cell_type": "markdown",
      "source": [
        "For Random Forest you can change n_estimators and max_features to get the higher result."
      ],
      "metadata": {
        "id": "uKnYoIDg_vfY"
      }
    },
    {
      "cell_type": "code",
      "source": [
        "\n",
        "forest = RandomForestClassifier(n_estimators=200, max_depth=7)\n",
        "forest.fit(x_train, y_train)\n",
        "y_pred_forest = forest.predict(x_test)\n",
        "print(classification_report(y_test, y_pred_forest))"
      ],
      "metadata": {
        "colab": {
          "base_uri": "https://localhost:8080/"
        },
        "id": "jy6Htwnjkou6",
        "outputId": "a895ff6d-5bab-4b7d-9bd3-e480aad7a64d"
      },
      "execution_count": 19,
      "outputs": [
        {
          "output_type": "stream",
          "name": "stdout",
          "text": [
            "              precision    recall  f1-score   support\n",
            "\n",
            "           0       1.00      0.99      0.99      1261\n",
            "           1       1.00      1.00      1.00      3612\n",
            "\n",
            "    accuracy                           1.00      4873\n",
            "   macro avg       1.00      0.99      1.00      4873\n",
            "weighted avg       1.00      1.00      1.00      4873\n",
            "\n"
          ]
        }
      ]
    },
    {
      "cell_type": "markdown",
      "source": [
        "### Neural Network"
      ],
      "metadata": {
        "id": "INXsQcm4maN9"
      }
    },
    {
      "cell_type": "markdown",
      "source": [
        "As the last algorithm, we implement deep learning to train a model. We use the Pytorch framework. The model has 2 hidden layers and 1 output layer."
      ],
      "metadata": {
        "id": "tBpW4XMFAMh5"
      }
    },
    {
      "cell_type": "code",
      "source": [
        "dataset"
      ],
      "metadata": {
        "colab": {
          "base_uri": "https://localhost:8080/",
          "height": 485
        },
        "id": "jjf5Df_WpURa",
        "outputId": "5e7dcedc-553a-4714-e435-9f2f35664823"
      },
      "execution_count": 20,
      "outputs": [
        {
          "output_type": "execute_result",
          "data": {
            "text/plain": [
              "       fixed acidity  volatile acidity  citric acid  residual sugar  \\\n",
              "0                7.4             0.170         0.29             1.4   \n",
              "1                5.3             0.310         0.38            10.5   \n",
              "2                4.7             0.145         0.29             1.0   \n",
              "3                6.9             0.260         0.29             4.2   \n",
              "4                6.4             0.450         0.07             1.1   \n",
              "...              ...               ...          ...             ...   \n",
              "32480            5.0             0.255         0.22             2.7   \n",
              "32481            6.6             0.360         0.52            11.3   \n",
              "32482            6.3             0.200         0.24             1.7   \n",
              "32483            6.2             0.200         0.33             5.4   \n",
              "32484            8.1             0.280         0.46            15.4   \n",
              "\n",
              "       chlorides  free sulfur dioxide  total sulfur dioxide  density    pH  \\\n",
              "0          0.047                 23.0                 107.0  0.99390  3.52   \n",
              "1          0.031                 53.0                 140.0  0.99321  3.34   \n",
              "2          0.042                 35.0                  90.0  0.99080  3.76   \n",
              "3          0.043                 33.0                 114.0  0.99020  3.16   \n",
              "4          0.030                 10.0                 131.0  0.99050  2.97   \n",
              "...          ...                  ...                   ...      ...   ...   \n",
              "32480      0.043                 46.0                 153.0  0.99238  3.75   \n",
              "32481      0.046                  8.0                 110.0  0.99660  3.07   \n",
              "32482      0.052                 36.0                 135.0  0.99374  3.80   \n",
              "32483      0.028                 21.0                  75.0  0.99012  3.36   \n",
              "32484      0.059                 32.0                 177.0  1.00040  3.27   \n",
              "\n",
              "       sulphates  alcohol  quality  Type  \n",
              "0           0.65     10.4        6     1  \n",
              "1           0.46     11.7        6     1  \n",
              "2           0.49     11.3        6     1  \n",
              "3           0.31     12.5        6     1  \n",
              "4           0.28     10.8        5     1  \n",
              "...          ...      ...      ...   ...  \n",
              "32480       0.76     11.3        6     1  \n",
              "32481       0.46      9.4        5     1  \n",
              "32482       0.66     10.8        6     1  \n",
              "32483       0.41     13.5        7     1  \n",
              "32484       0.58      9.0        4     1  \n",
              "\n",
              "[32485 rows x 13 columns]"
            ],
            "text/html": [
              "\n",
              "\n",
              "  <div id=\"df-867b98dc-8295-4217-a2af-2087727f040a\">\n",
              "    <div class=\"colab-df-container\">\n",
              "      <div>\n",
              "<style scoped>\n",
              "    .dataframe tbody tr th:only-of-type {\n",
              "        vertical-align: middle;\n",
              "    }\n",
              "\n",
              "    .dataframe tbody tr th {\n",
              "        vertical-align: top;\n",
              "    }\n",
              "\n",
              "    .dataframe thead th {\n",
              "        text-align: right;\n",
              "    }\n",
              "</style>\n",
              "<table border=\"1\" class=\"dataframe\">\n",
              "  <thead>\n",
              "    <tr style=\"text-align: right;\">\n",
              "      <th></th>\n",
              "      <th>fixed acidity</th>\n",
              "      <th>volatile acidity</th>\n",
              "      <th>citric acid</th>\n",
              "      <th>residual sugar</th>\n",
              "      <th>chlorides</th>\n",
              "      <th>free sulfur dioxide</th>\n",
              "      <th>total sulfur dioxide</th>\n",
              "      <th>density</th>\n",
              "      <th>pH</th>\n",
              "      <th>sulphates</th>\n",
              "      <th>alcohol</th>\n",
              "      <th>quality</th>\n",
              "      <th>Type</th>\n",
              "    </tr>\n",
              "  </thead>\n",
              "  <tbody>\n",
              "    <tr>\n",
              "      <th>0</th>\n",
              "      <td>7.4</td>\n",
              "      <td>0.170</td>\n",
              "      <td>0.29</td>\n",
              "      <td>1.4</td>\n",
              "      <td>0.047</td>\n",
              "      <td>23.0</td>\n",
              "      <td>107.0</td>\n",
              "      <td>0.99390</td>\n",
              "      <td>3.52</td>\n",
              "      <td>0.65</td>\n",
              "      <td>10.4</td>\n",
              "      <td>6</td>\n",
              "      <td>1</td>\n",
              "    </tr>\n",
              "    <tr>\n",
              "      <th>1</th>\n",
              "      <td>5.3</td>\n",
              "      <td>0.310</td>\n",
              "      <td>0.38</td>\n",
              "      <td>10.5</td>\n",
              "      <td>0.031</td>\n",
              "      <td>53.0</td>\n",
              "      <td>140.0</td>\n",
              "      <td>0.99321</td>\n",
              "      <td>3.34</td>\n",
              "      <td>0.46</td>\n",
              "      <td>11.7</td>\n",
              "      <td>6</td>\n",
              "      <td>1</td>\n",
              "    </tr>\n",
              "    <tr>\n",
              "      <th>2</th>\n",
              "      <td>4.7</td>\n",
              "      <td>0.145</td>\n",
              "      <td>0.29</td>\n",
              "      <td>1.0</td>\n",
              "      <td>0.042</td>\n",
              "      <td>35.0</td>\n",
              "      <td>90.0</td>\n",
              "      <td>0.99080</td>\n",
              "      <td>3.76</td>\n",
              "      <td>0.49</td>\n",
              "      <td>11.3</td>\n",
              "      <td>6</td>\n",
              "      <td>1</td>\n",
              "    </tr>\n",
              "    <tr>\n",
              "      <th>3</th>\n",
              "      <td>6.9</td>\n",
              "      <td>0.260</td>\n",
              "      <td>0.29</td>\n",
              "      <td>4.2</td>\n",
              "      <td>0.043</td>\n",
              "      <td>33.0</td>\n",
              "      <td>114.0</td>\n",
              "      <td>0.99020</td>\n",
              "      <td>3.16</td>\n",
              "      <td>0.31</td>\n",
              "      <td>12.5</td>\n",
              "      <td>6</td>\n",
              "      <td>1</td>\n",
              "    </tr>\n",
              "    <tr>\n",
              "      <th>4</th>\n",
              "      <td>6.4</td>\n",
              "      <td>0.450</td>\n",
              "      <td>0.07</td>\n",
              "      <td>1.1</td>\n",
              "      <td>0.030</td>\n",
              "      <td>10.0</td>\n",
              "      <td>131.0</td>\n",
              "      <td>0.99050</td>\n",
              "      <td>2.97</td>\n",
              "      <td>0.28</td>\n",
              "      <td>10.8</td>\n",
              "      <td>5</td>\n",
              "      <td>1</td>\n",
              "    </tr>\n",
              "    <tr>\n",
              "      <th>...</th>\n",
              "      <td>...</td>\n",
              "      <td>...</td>\n",
              "      <td>...</td>\n",
              "      <td>...</td>\n",
              "      <td>...</td>\n",
              "      <td>...</td>\n",
              "      <td>...</td>\n",
              "      <td>...</td>\n",
              "      <td>...</td>\n",
              "      <td>...</td>\n",
              "      <td>...</td>\n",
              "      <td>...</td>\n",
              "      <td>...</td>\n",
              "    </tr>\n",
              "    <tr>\n",
              "      <th>32480</th>\n",
              "      <td>5.0</td>\n",
              "      <td>0.255</td>\n",
              "      <td>0.22</td>\n",
              "      <td>2.7</td>\n",
              "      <td>0.043</td>\n",
              "      <td>46.0</td>\n",
              "      <td>153.0</td>\n",
              "      <td>0.99238</td>\n",
              "      <td>3.75</td>\n",
              "      <td>0.76</td>\n",
              "      <td>11.3</td>\n",
              "      <td>6</td>\n",
              "      <td>1</td>\n",
              "    </tr>\n",
              "    <tr>\n",
              "      <th>32481</th>\n",
              "      <td>6.6</td>\n",
              "      <td>0.360</td>\n",
              "      <td>0.52</td>\n",
              "      <td>11.3</td>\n",
              "      <td>0.046</td>\n",
              "      <td>8.0</td>\n",
              "      <td>110.0</td>\n",
              "      <td>0.99660</td>\n",
              "      <td>3.07</td>\n",
              "      <td>0.46</td>\n",
              "      <td>9.4</td>\n",
              "      <td>5</td>\n",
              "      <td>1</td>\n",
              "    </tr>\n",
              "    <tr>\n",
              "      <th>32482</th>\n",
              "      <td>6.3</td>\n",
              "      <td>0.200</td>\n",
              "      <td>0.24</td>\n",
              "      <td>1.7</td>\n",
              "      <td>0.052</td>\n",
              "      <td>36.0</td>\n",
              "      <td>135.0</td>\n",
              "      <td>0.99374</td>\n",
              "      <td>3.80</td>\n",
              "      <td>0.66</td>\n",
              "      <td>10.8</td>\n",
              "      <td>6</td>\n",
              "      <td>1</td>\n",
              "    </tr>\n",
              "    <tr>\n",
              "      <th>32483</th>\n",
              "      <td>6.2</td>\n",
              "      <td>0.200</td>\n",
              "      <td>0.33</td>\n",
              "      <td>5.4</td>\n",
              "      <td>0.028</td>\n",
              "      <td>21.0</td>\n",
              "      <td>75.0</td>\n",
              "      <td>0.99012</td>\n",
              "      <td>3.36</td>\n",
              "      <td>0.41</td>\n",
              "      <td>13.5</td>\n",
              "      <td>7</td>\n",
              "      <td>1</td>\n",
              "    </tr>\n",
              "    <tr>\n",
              "      <th>32484</th>\n",
              "      <td>8.1</td>\n",
              "      <td>0.280</td>\n",
              "      <td>0.46</td>\n",
              "      <td>15.4</td>\n",
              "      <td>0.059</td>\n",
              "      <td>32.0</td>\n",
              "      <td>177.0</td>\n",
              "      <td>1.00040</td>\n",
              "      <td>3.27</td>\n",
              "      <td>0.58</td>\n",
              "      <td>9.0</td>\n",
              "      <td>4</td>\n",
              "      <td>1</td>\n",
              "    </tr>\n",
              "  </tbody>\n",
              "</table>\n",
              "<p>32485 rows × 13 columns</p>\n",
              "</div>\n",
              "      <button class=\"colab-df-convert\" onclick=\"convertToInteractive('df-867b98dc-8295-4217-a2af-2087727f040a')\"\n",
              "              title=\"Convert this dataframe to an interactive table.\"\n",
              "              style=\"display:none;\">\n",
              "\n",
              "  <svg xmlns=\"http://www.w3.org/2000/svg\" height=\"24px\"viewBox=\"0 0 24 24\"\n",
              "       width=\"24px\">\n",
              "    <path d=\"M0 0h24v24H0V0z\" fill=\"none\"/>\n",
              "    <path d=\"M18.56 5.44l.94 2.06.94-2.06 2.06-.94-2.06-.94-.94-2.06-.94 2.06-2.06.94zm-11 1L8.5 8.5l.94-2.06 2.06-.94-2.06-.94L8.5 2.5l-.94 2.06-2.06.94zm10 10l.94 2.06.94-2.06 2.06-.94-2.06-.94-.94-2.06-.94 2.06-2.06.94z\"/><path d=\"M17.41 7.96l-1.37-1.37c-.4-.4-.92-.59-1.43-.59-.52 0-1.04.2-1.43.59L10.3 9.45l-7.72 7.72c-.78.78-.78 2.05 0 2.83L4 21.41c.39.39.9.59 1.41.59.51 0 1.02-.2 1.41-.59l7.78-7.78 2.81-2.81c.8-.78.8-2.07 0-2.86zM5.41 20L4 18.59l7.72-7.72 1.47 1.35L5.41 20z\"/>\n",
              "  </svg>\n",
              "      </button>\n",
              "\n",
              "\n",
              "\n",
              "    <div id=\"df-739d5d37-b3b6-4a77-a5f2-274ba6837a71\">\n",
              "      <button class=\"colab-df-quickchart\" onclick=\"quickchart('df-739d5d37-b3b6-4a77-a5f2-274ba6837a71')\"\n",
              "              title=\"Suggest charts.\"\n",
              "              style=\"display:none;\">\n",
              "\n",
              "<svg xmlns=\"http://www.w3.org/2000/svg\" height=\"24px\"viewBox=\"0 0 24 24\"\n",
              "     width=\"24px\">\n",
              "    <g>\n",
              "        <path d=\"M19 3H5c-1.1 0-2 .9-2 2v14c0 1.1.9 2 2 2h14c1.1 0 2-.9 2-2V5c0-1.1-.9-2-2-2zM9 17H7v-7h2v7zm4 0h-2V7h2v10zm4 0h-2v-4h2v4z\"/>\n",
              "    </g>\n",
              "</svg>\n",
              "      </button>\n",
              "    </div>\n",
              "\n",
              "<style>\n",
              "  .colab-df-quickchart {\n",
              "    background-color: #E8F0FE;\n",
              "    border: none;\n",
              "    border-radius: 50%;\n",
              "    cursor: pointer;\n",
              "    display: none;\n",
              "    fill: #1967D2;\n",
              "    height: 32px;\n",
              "    padding: 0 0 0 0;\n",
              "    width: 32px;\n",
              "  }\n",
              "\n",
              "  .colab-df-quickchart:hover {\n",
              "    background-color: #E2EBFA;\n",
              "    box-shadow: 0px 1px 2px rgba(60, 64, 67, 0.3), 0px 1px 3px 1px rgba(60, 64, 67, 0.15);\n",
              "    fill: #174EA6;\n",
              "  }\n",
              "\n",
              "  [theme=dark] .colab-df-quickchart {\n",
              "    background-color: #3B4455;\n",
              "    fill: #D2E3FC;\n",
              "  }\n",
              "\n",
              "  [theme=dark] .colab-df-quickchart:hover {\n",
              "    background-color: #434B5C;\n",
              "    box-shadow: 0px 1px 3px 1px rgba(0, 0, 0, 0.15);\n",
              "    filter: drop-shadow(0px 1px 2px rgba(0, 0, 0, 0.3));\n",
              "    fill: #FFFFFF;\n",
              "  }\n",
              "</style>\n",
              "\n",
              "    <script>\n",
              "      async function quickchart(key) {\n",
              "        const containerElement = document.querySelector('#' + key);\n",
              "        const charts = await google.colab.kernel.invokeFunction(\n",
              "            'suggestCharts', [key], {});\n",
              "      }\n",
              "    </script>\n",
              "\n",
              "      <script>\n",
              "\n",
              "function displayQuickchartButton(domScope) {\n",
              "  let quickchartButtonEl =\n",
              "    domScope.querySelector('#df-739d5d37-b3b6-4a77-a5f2-274ba6837a71 button.colab-df-quickchart');\n",
              "  quickchartButtonEl.style.display =\n",
              "    google.colab.kernel.accessAllowed ? 'block' : 'none';\n",
              "}\n",
              "\n",
              "        displayQuickchartButton(document);\n",
              "      </script>\n",
              "      <style>\n",
              "    .colab-df-container {\n",
              "      display:flex;\n",
              "      flex-wrap:wrap;\n",
              "      gap: 12px;\n",
              "    }\n",
              "\n",
              "    .colab-df-convert {\n",
              "      background-color: #E8F0FE;\n",
              "      border: none;\n",
              "      border-radius: 50%;\n",
              "      cursor: pointer;\n",
              "      display: none;\n",
              "      fill: #1967D2;\n",
              "      height: 32px;\n",
              "      padding: 0 0 0 0;\n",
              "      width: 32px;\n",
              "    }\n",
              "\n",
              "    .colab-df-convert:hover {\n",
              "      background-color: #E2EBFA;\n",
              "      box-shadow: 0px 1px 2px rgba(60, 64, 67, 0.3), 0px 1px 3px 1px rgba(60, 64, 67, 0.15);\n",
              "      fill: #174EA6;\n",
              "    }\n",
              "\n",
              "    [theme=dark] .colab-df-convert {\n",
              "      background-color: #3B4455;\n",
              "      fill: #D2E3FC;\n",
              "    }\n",
              "\n",
              "    [theme=dark] .colab-df-convert:hover {\n",
              "      background-color: #434B5C;\n",
              "      box-shadow: 0px 1px 3px 1px rgba(0, 0, 0, 0.15);\n",
              "      filter: drop-shadow(0px 1px 2px rgba(0, 0, 0, 0.3));\n",
              "      fill: #FFFFFF;\n",
              "    }\n",
              "  </style>\n",
              "\n",
              "      <script>\n",
              "        const buttonEl =\n",
              "          document.querySelector('#df-867b98dc-8295-4217-a2af-2087727f040a button.colab-df-convert');\n",
              "        buttonEl.style.display =\n",
              "          google.colab.kernel.accessAllowed ? 'block' : 'none';\n",
              "\n",
              "        async function convertToInteractive(key) {\n",
              "          const element = document.querySelector('#df-867b98dc-8295-4217-a2af-2087727f040a');\n",
              "          const dataTable =\n",
              "            await google.colab.kernel.invokeFunction('convertToInteractive',\n",
              "                                                     [key], {});\n",
              "          if (!dataTable) return;\n",
              "\n",
              "          const docLinkHtml = 'Like what you see? Visit the ' +\n",
              "            '<a target=\"_blank\" href=https://colab.research.google.com/notebooks/data_table.ipynb>data table notebook</a>'\n",
              "            + ' to learn more about interactive tables.';\n",
              "          element.innerHTML = '';\n",
              "          dataTable['output_type'] = 'display_data';\n",
              "          await google.colab.output.renderOutput(dataTable, element);\n",
              "          const docLink = document.createElement('div');\n",
              "          docLink.innerHTML = docLinkHtml;\n",
              "          element.appendChild(docLink);\n",
              "        }\n",
              "      </script>\n",
              "    </div>\n",
              "  </div>\n"
            ]
          },
          "metadata": {},
          "execution_count": 20
        }
      ]
    },
    {
      "cell_type": "code",
      "source": [
        "X = dataset.drop(['Type'], axis = 1)\n",
        "Y = dataset.Type"
      ],
      "metadata": {
        "id": "F8kgcrDqpVKt"
      },
      "execution_count": 21,
      "outputs": []
    },
    {
      "cell_type": "code",
      "source": [
        "scaler = StandardScaler()\n",
        "X = scaler.fit_transform(X)"
      ],
      "metadata": {
        "id": "24RhE15LqeQ8"
      },
      "execution_count": 22,
      "outputs": []
    },
    {
      "cell_type": "code",
      "source": [
        "X = torch.tensor(X).float()\n",
        "Y = torch.tensor(Y).float()"
      ],
      "metadata": {
        "id": "U0ECbTqq2dFF"
      },
      "execution_count": 23,
      "outputs": []
    },
    {
      "cell_type": "code",
      "source": [
        "x_train, x_test, y_train, y_test = train_test_split(X, Y, test_size=0.15, random_state=0)\n",
        "x_train, x_dev, y_train, y_dev = train_test_split(x_train, y_train, test_size=0.1, random_state=0)"
      ],
      "metadata": {
        "id": "PW7eSqvsphOT"
      },
      "execution_count": 24,
      "outputs": []
    },
    {
      "cell_type": "code",
      "source": [
        "print(f\"shape x_train: {x_train.shape}, shape x_test: {x_test.shape}, shape x_dev: {x_dev.shape}\")"
      ],
      "metadata": {
        "colab": {
          "base_uri": "https://localhost:8080/"
        },
        "id": "GPCDG-JBp2b8",
        "outputId": "ba77b095-6f9e-4060-86fe-d682052b5c70"
      },
      "execution_count": 25,
      "outputs": [
        {
          "output_type": "stream",
          "name": "stdout",
          "text": [
            "shape x_train: torch.Size([24850, 12]), shape x_test: torch.Size([4873, 12]), shape x_dev: torch.Size([2762, 12])\n"
          ]
        }
      ]
    },
    {
      "cell_type": "code",
      "source": [
        "class NeuralNetwork(nn.Module):\n",
        "    def __init__(self):\n",
        "        super(NeuralNetwork, self).__init__()\n",
        "        self.sequence = nn.Sequential(\n",
        "            # Layer 1 => ReLU(12, 64)\n",
        "            nn.Linear(12, 64),\n",
        "            nn.ReLU(),\n",
        "            # Layer 2 => ReLU(64, 64)\n",
        "            nn.Linear(64, 64),\n",
        "            nn.ReLU(),\n",
        "            # Layer 3 => Sigmoid(64,1)\n",
        "            nn.Linear(64,1),\n",
        "            nn.Sigmoid()\n",
        "        )\n",
        "\n",
        "    def forward(self, x):\n",
        "        x = self.sequence(x)\n",
        "        return x"
      ],
      "metadata": {
        "id": "AXGWgYh9qjfE"
      },
      "execution_count": 26,
      "outputs": []
    },
    {
      "cell_type": "code",
      "source": [
        "def train(data, model, loss_func, optimizer):\n",
        "    for batch, (X,y) in enumerate(data):\n",
        "        # Clean the old gradient computation\n",
        "        optimizer.zero_grad()\n",
        "\n",
        "        # Train the model\n",
        "        y_pred = model(X)\n",
        "\n",
        "        # Get loss\n",
        "        ls = loss_func(y_pred, y)\n",
        "\n",
        "        # Backward propagation\n",
        "        ls.backward()\n",
        "        optimizer.step()"
      ],
      "metadata": {
        "id": "y4kgcXoesgRz"
      },
      "execution_count": 27,
      "outputs": []
    },
    {
      "cell_type": "code",
      "source": [
        "def validation(x_dev, y_dev, model, loss_func):\n",
        "    with torch.no_grad():\n",
        "        y_pred_dev = model(x_dev)\n",
        "        ls_val = loss_func(y_pred_dev, y_dev)\n",
        "\n",
        "        return ls_val"
      ],
      "metadata": {
        "id": "QSlEfPtMxLUj"
      },
      "execution_count": 28,
      "outputs": []
    },
    {
      "cell_type": "markdown",
      "source": [
        "#### Set hyperparameters"
      ],
      "metadata": {
        "id": "B7WykaCcyX7x"
      }
    },
    {
      "cell_type": "code",
      "source": [
        "learning_rate = 0.01\n",
        "model = NeuralNetwork()\n",
        "loss = nn.functional.binary_cross_entropy\n",
        "optimizer = torch.optim.Adam(model.parameters(), lr= learning_rate)\n",
        "epoch = 30\n",
        "batch_size = 16\n",
        "decay_rate = 1"
      ],
      "metadata": {
        "id": "HehR7YWmybfv"
      },
      "execution_count": 29,
      "outputs": []
    },
    {
      "cell_type": "markdown",
      "source": [
        "#### Train the model and get result"
      ],
      "metadata": {
        "id": "olZAWeWJ_cyL"
      }
    },
    {
      "cell_type": "code",
      "source": [
        "x_train = torch.tensor(x_train).float()\n",
        "x_test = torch.tensor(x_test).float()\n",
        "x_dev = torch.tensor(x_dev).float()"
      ],
      "metadata": {
        "colab": {
          "base_uri": "https://localhost:8080/"
        },
        "id": "--lKVC_b0-9G",
        "outputId": "2969353a-e237-4eac-f9a3-f9e53dffe601"
      },
      "execution_count": 30,
      "outputs": [
        {
          "output_type": "stream",
          "name": "stderr",
          "text": [
            "<ipython-input-30-b5fcc25d8cfd>:1: UserWarning: To copy construct from a tensor, it is recommended to use sourceTensor.clone().detach() or sourceTensor.clone().detach().requires_grad_(True), rather than torch.tensor(sourceTensor).\n",
            "  x_train = torch.tensor(x_train).float()\n",
            "<ipython-input-30-b5fcc25d8cfd>:2: UserWarning: To copy construct from a tensor, it is recommended to use sourceTensor.clone().detach() or sourceTensor.clone().detach().requires_grad_(True), rather than torch.tensor(sourceTensor).\n",
            "  x_test = torch.tensor(x_test).float()\n",
            "<ipython-input-30-b5fcc25d8cfd>:3: UserWarning: To copy construct from a tensor, it is recommended to use sourceTensor.clone().detach() or sourceTensor.clone().detach().requires_grad_(True), rather than torch.tensor(sourceTensor).\n",
            "  x_dev = torch.tensor(x_dev).float()\n"
          ]
        }
      ]
    },
    {
      "cell_type": "code",
      "source": [
        "y_train = y_train.reshape(-1,1)\n",
        "y_dev = y_dev.reshape(-1,1)\n",
        "y_test = y_test.reshape(-1,1)"
      ],
      "metadata": {
        "id": "ioZD0fLm5Yln"
      },
      "execution_count": 31,
      "outputs": []
    },
    {
      "cell_type": "code",
      "source": [
        "from torch.utils.data import TensorDataset, DataLoader\n",
        "merged_data = TensorDataset(x_train, y_train)\n",
        "train_dataset = DataLoader(merged_data, batch_size= batch_size)"
      ],
      "metadata": {
        "id": "v0X1xR030iA3"
      },
      "execution_count": 32,
      "outputs": []
    },
    {
      "cell_type": "markdown",
      "source": [
        "We use learning rate decay to decrease the learning rate for each epoch."
      ],
      "metadata": {
        "id": "frpmrvNSBMCP"
      }
    },
    {
      "cell_type": "code",
      "source": [
        "learning_rate_init = learning_rate\n",
        "for e in range(epoch):\n",
        "    optimizer = torch.optim.Adam(model.parameters(), lr= learning_rate)\n",
        "    learning_rate = learning_rate_init/(1+(decay_rate*(e+1)))\n",
        "    train(train_dataset, model, loss, optimizer)\n",
        "    returned_loss =  validation(x_dev, y_dev, model, loss)\n",
        "    if (e+1) % 5 == 0:\n",
        "        print(f\"Epoch({e+1}) => loss: {'%.5f' % returned_loss}\")"
      ],
      "metadata": {
        "colab": {
          "base_uri": "https://localhost:8080/"
        },
        "id": "_LEkV-sf2ECy",
        "outputId": "06329b3e-43cc-4ab5-b234-64af1743550c"
      },
      "execution_count": 33,
      "outputs": [
        {
          "output_type": "stream",
          "name": "stdout",
          "text": [
            "Epoch(5) => loss: 0.00635\n",
            "Epoch(10) => loss: 0.00263\n",
            "Epoch(15) => loss: 0.00131\n",
            "Epoch(20) => loss: 0.00097\n",
            "Epoch(25) => loss: 0.00085\n",
            "Epoch(30) => loss: 0.00110\n"
          ]
        }
      ]
    },
    {
      "cell_type": "markdown",
      "source": [
        "Evaluate model performance on the test set."
      ],
      "metadata": {
        "id": "YKxq5p7RBpzG"
      }
    },
    {
      "cell_type": "code",
      "source": [
        "y_pred_nn = model(x_test)"
      ],
      "metadata": {
        "id": "egv1eLV3GUDL"
      },
      "execution_count": 34,
      "outputs": []
    },
    {
      "cell_type": "markdown",
      "source": [
        "#### Manipulate the output and get result from test set"
      ],
      "metadata": {
        "id": "1KumtSBcJ4LJ"
      }
    },
    {
      "cell_type": "code",
      "source": [
        "y_pred_nn = y_pred_nn.reshape(1,-1)\n",
        "y_test = y_test.reshape(1,-1)\n",
        "# Convert to numpy\n",
        "y_pred_nn = y_pred_nn.detach().numpy()\n",
        "y_test = y_test.detach().numpy()\n",
        "# Make them 2D array\n",
        "y_pred_nn = y_pred_nn[0]\n",
        "y_test = y_test[0]\n",
        "# Make sure that they both have binary values so we can use classification_report class\n",
        "threshold = 0.5\n",
        "y_true_binary = [1 if val > threshold else 0 for val in y_test]\n",
        "y_pred_binary = [1 if val2 > threshold else 0 for val2 in y_pred_nn]\n",
        "print(classification_report(y_true_binary, y_pred_binary))"
      ],
      "metadata": {
        "colab": {
          "base_uri": "https://localhost:8080/"
        },
        "id": "HPIO6zHLGamK",
        "outputId": "d69be5f0-a3cb-4962-9f4f-dda7d8cc4458"
      },
      "execution_count": 35,
      "outputs": [
        {
          "output_type": "stream",
          "name": "stdout",
          "text": [
            "              precision    recall  f1-score   support\n",
            "\n",
            "           0       1.00      1.00      1.00      1261\n",
            "           1       1.00      1.00      1.00      3612\n",
            "\n",
            "    accuracy                           1.00      4873\n",
            "   macro avg       1.00      1.00      1.00      4873\n",
            "weighted avg       1.00      1.00      1.00      4873\n",
            "\n"
          ]
        }
      ]
    }
  ]
}